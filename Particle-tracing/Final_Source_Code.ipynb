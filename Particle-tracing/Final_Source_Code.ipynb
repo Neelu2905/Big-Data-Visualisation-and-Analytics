{
  "cells": [
    {
      "cell_type": "code",
      "execution_count": 1,
      "metadata": {
        "colab": {
          "base_uri": "https://localhost:8080/"
        },
        "id": "H3_7DRdGgOkf",
        "outputId": "786c683f-b531-4d34-b9c7-fcd675ad0a25"
      },
      "outputs": [
        {
          "output_type": "stream",
          "name": "stdout",
          "text": [
            "Collecting vtk\n",
            "  Downloading vtk-9.3.0-cp310-cp310-manylinux_2_17_x86_64.manylinux2014_x86_64.whl (92.0 MB)\n",
            "\u001b[2K     \u001b[90m━━━━━━━━━━━━━━━━━━━━━━━━━━━━━━━━━━━━━━━━\u001b[0m \u001b[32m92.0/92.0 MB\u001b[0m \u001b[31m8.4 MB/s\u001b[0m eta \u001b[36m0:00:00\u001b[0m\n",
            "\u001b[?25hRequirement already satisfied: matplotlib>=2.0.0 in /usr/local/lib/python3.10/dist-packages (from vtk) (3.7.1)\n",
            "Requirement already satisfied: contourpy>=1.0.1 in /usr/local/lib/python3.10/dist-packages (from matplotlib>=2.0.0->vtk) (1.2.1)\n",
            "Requirement already satisfied: cycler>=0.10 in /usr/local/lib/python3.10/dist-packages (from matplotlib>=2.0.0->vtk) (0.12.1)\n",
            "Requirement already satisfied: fonttools>=4.22.0 in /usr/local/lib/python3.10/dist-packages (from matplotlib>=2.0.0->vtk) (4.51.0)\n",
            "Requirement already satisfied: kiwisolver>=1.0.1 in /usr/local/lib/python3.10/dist-packages (from matplotlib>=2.0.0->vtk) (1.4.5)\n",
            "Requirement already satisfied: numpy>=1.20 in /usr/local/lib/python3.10/dist-packages (from matplotlib>=2.0.0->vtk) (1.25.2)\n",
            "Requirement already satisfied: packaging>=20.0 in /usr/local/lib/python3.10/dist-packages (from matplotlib>=2.0.0->vtk) (24.0)\n",
            "Requirement already satisfied: pillow>=6.2.0 in /usr/local/lib/python3.10/dist-packages (from matplotlib>=2.0.0->vtk) (9.4.0)\n",
            "Requirement already satisfied: pyparsing>=2.3.1 in /usr/local/lib/python3.10/dist-packages (from matplotlib>=2.0.0->vtk) (3.1.2)\n",
            "Requirement already satisfied: python-dateutil>=2.7 in /usr/local/lib/python3.10/dist-packages (from matplotlib>=2.0.0->vtk) (2.8.2)\n",
            "Requirement already satisfied: six>=1.5 in /usr/local/lib/python3.10/dist-packages (from python-dateutil>=2.7->matplotlib>=2.0.0->vtk) (1.16.0)\n",
            "Installing collected packages: vtk\n",
            "Successfully installed vtk-9.3.0\n"
          ]
        }
      ],
      "source": [
        "!pip install vtk"
      ]
    },
    {
      "cell_type": "code",
      "execution_count": 32,
      "metadata": {
        "_cell_guid": "b1076dfc-b9ad-4769-8c92-a6c4dae69d19",
        "_uuid": "8f2839f25d086af736a60e9eeb907d3b93b6e0e5",
        "execution": {
          "iopub.execute_input": "2024-04-13T14:11:22.561059Z",
          "iopub.status.busy": "2024-04-13T14:11:22.560629Z",
          "iopub.status.idle": "2024-04-13T14:11:22.566584Z",
          "shell.execute_reply": "2024-04-13T14:11:22.565601Z",
          "shell.execute_reply.started": "2024-04-13T14:11:22.561028Z"
        },
        "trusted": true,
        "id": "aOqaFsTLgOkh"
      },
      "outputs": [],
      "source": [
        "import vtk\n",
        "import numpy as np"
      ]
    },
    {
      "cell_type": "code",
      "execution_count": 33,
      "metadata": {
        "execution": {
          "iopub.execute_input": "2024-04-13T14:11:23.254513Z",
          "iopub.status.busy": "2024-04-13T14:11:23.253760Z",
          "iopub.status.idle": "2024-04-13T14:11:23.260739Z",
          "shell.execute_reply": "2024-04-13T14:11:23.259057Z",
          "shell.execute_reply.started": "2024-04-13T14:11:23.254474Z"
        },
        "trusted": true,
        "id": "3UKT9_AtgOki"
      },
      "outputs": [],
      "source": [
        "def load_vector_field(file_path):\n",
        "    reader = vtk.vtkXMLImageDataReader()\n",
        "    reader.SetFileName(file_path)\n",
        "    reader.Update()\n",
        "    return reader.GetOutput(), reader.GetOutput().GetBounds()"
      ]
    },
    {
      "cell_type": "code",
      "execution_count": 34,
      "metadata": {
        "execution": {
          "iopub.execute_input": "2024-04-13T14:11:24.248802Z",
          "iopub.status.busy": "2024-04-13T14:11:24.247286Z",
          "iopub.status.idle": "2024-04-13T14:11:24.260877Z",
          "shell.execute_reply": "2024-04-13T14:11:24.259433Z",
          "shell.execute_reply.started": "2024-04-13T14:11:24.248744Z"
        },
        "trusted": true,
        "id": "Fdn4j_T7gOki"
      },
      "outputs": [],
      "source": [
        "def rk4_integration(start_point, step_size, max_steps):\n",
        "    current_point = np.array(start_point)\n",
        "    points = vtk.vtkPoints()\n",
        "    points.InsertNextPoint(current_point)\n",
        "\n",
        "    data, bounds = load_vector_field(\"tornado3d_vector.vti\")\n",
        "\n",
        "    for _ in range(max_steps):\n",
        "        if not all(bounds[i] <= current_point[i//2] <= bounds[i+1] for i in range(0, len(bounds), 2)):\n",
        "            break  # Stop if any coordinate of the current point is out of bounds\n",
        "\n",
        "\n",
        "\n",
        "        vec = probe_vector(current_point, data)\n",
        "\n",
        "        k1 = np.array(vec)\n",
        "        k2 = np.array(probe_vector((current_point + k1 * (step_size / 2))[0], data))\n",
        "        k3 = np.array(probe_vector((current_point + k2 * (step_size / 2))[0], data))\n",
        "        k4 = np.array(probe_vector((current_point + k3 * step_size)[0], data))\n",
        "\n",
        "        next_point = current_point + step_size * ((k1 + 2*k2 + 2*k3 + k4) / 6.0)\n",
        "        points.InsertNextPoint(current_point)\n",
        "        current_point = next_point[0]\n",
        "\n",
        "\n",
        "    return points"
      ]
    },
    {
      "cell_type": "code",
      "execution_count": 35,
      "metadata": {
        "execution": {
          "iopub.execute_input": "2024-04-13T14:11:24.969110Z",
          "iopub.status.busy": "2024-04-13T14:11:24.968654Z",
          "iopub.status.idle": "2024-04-13T14:11:24.978967Z",
          "shell.execute_reply": "2024-04-13T14:11:24.977254Z",
          "shell.execute_reply.started": "2024-04-13T14:11:24.969075Z"
        },
        "trusted": true,
        "id": "5xuIJ83wgOki"
      },
      "outputs": [],
      "source": [
        "def probe_vector(point, data):\n",
        "    # Create a locator to find the closest point\n",
        "    points = vtk.vtkPoints()\n",
        "    points.InsertNextPoint(point)\n",
        "\n",
        "    points_poly = vtk.vtkPolyData()\n",
        "    points_poly.SetPoints(points)\n",
        "\n",
        "    probe = vtk.vtkProbeFilter()\n",
        "    probe.SetSourceData(data)\n",
        "    probe.SetInputData(points_poly)\n",
        "    probe.Update()\n",
        "\n",
        "    vector_array = probe.GetOutput().GetPointData().GetArray(\"vectors\")\n",
        "\n",
        "    # Convert vector_array to a numpy array for easier manipulation\n",
        "    num_tuples = vector_array.GetNumberOfTuples()\n",
        "    vector_size = vector_array.GetNumberOfComponents()\n",
        "    vectors = np.zeros((num_tuples, vector_size))\n",
        "    for i in range(num_tuples):\n",
        "        vectors[i] = vector_array.GetTuple(i)\n",
        "\n",
        "    return vectors"
      ]
    },
    {
      "cell_type": "code",
      "execution_count": 36,
      "metadata": {
        "execution": {
          "iopub.execute_input": "2024-04-13T14:11:25.534132Z",
          "iopub.status.busy": "2024-04-13T14:11:25.533577Z",
          "iopub.status.idle": "2024-04-13T14:11:25.544679Z",
          "shell.execute_reply": "2024-04-13T14:11:25.543362Z",
          "shell.execute_reply.started": "2024-04-13T14:11:25.534076Z"
        },
        "trusted": true,
        "id": "k3aNemLHgOkj"
      },
      "outputs": [],
      "source": [
        "def module_write_to_file(filename,polydata):\n",
        "    writer = vtk.vtkXMLPolyDataWriter()\n",
        "    writer.SetFileName(filename)\n",
        "    writer.SetInputData(polydata)\n",
        "    writer.Write()\n",
        "\n",
        "\n",
        "def write_vtp(filename, points):\n",
        "    # Create polyline\n",
        "    polyline = vtk.vtkPolyLine()\n",
        "    polyline.GetPointIds().SetNumberOfIds(points.GetNumberOfPoints())\n",
        "    for i in range(points.GetNumberOfPoints()):\n",
        "        polyline.GetPointIds().SetId(i, i)\n",
        "\n",
        "    # Create polyline cells\n",
        "    cells = vtk.vtkCellArray()\n",
        "    cells.InsertNextCell(polyline)\n",
        "\n",
        "    # Create polydata\n",
        "    polydata = vtk.vtkPolyData()\n",
        "    polydata.SetPoints(points)\n",
        "    polydata.SetLines(cells)\n",
        "\n",
        "    module_write_to_file(filename,polydata)\n",
        "\n",
        "    # Write to file\n",
        "#     writer = vtk.vtkXMLPolyDataWriter()\n",
        "#     writer.SetFileName(filename)\n",
        "#     writer.SetInputData(polydata)\n",
        "#     writer.Write()"
      ]
    },
    {
      "cell_type": "code",
      "execution_count": 43,
      "metadata": {
        "execution": {
          "iopub.execute_input": "2024-04-13T14:11:27.465340Z",
          "iopub.status.busy": "2024-04-13T14:11:27.463999Z",
          "iopub.status.idle": "2024-04-13T14:11:28.892795Z",
          "shell.execute_reply": "2024-04-13T14:11:28.891458Z",
          "shell.execute_reply.started": "2024-04-13T14:11:27.465293Z"
        },
        "trusted": true,
        "colab": {
          "base_uri": "https://localhost:8080/"
        },
        "id": "EeZU4shngOkj",
        "outputId": "e7fd7761-5484-4e7f-b3f7-497c1180c29c"
      },
      "outputs": [
        {
          "output_type": "stream",
          "name": "stdout",
          "text": [
            "Enter the x-coordinate for the seed: 0\n",
            "Enter the y-coordinate for the seed: 0\n",
            "Enter the z-coordinate for the seed: 7\n",
            "generated\n"
          ]
        }
      ],
      "source": [
        "def main():\n",
        "    # User input for seed location\n",
        "    # seed_location = [0.0, 0.0, 7.0]\n",
        "    x = int(input(\"Enter the x-coordinate for the seed: \"))\n",
        "    y = int(input(\"Enter the y-coordinate for the seed: \"))\n",
        "    z = int(input(\"Enter the z-coordinate for the seed: \"))\n",
        "\n",
        "    # Initialize seed_location with user inputs\n",
        "    seed_location = [x, y, z]\n",
        "    # print(seed_location)\n",
        "\n",
        "    # Integration parameters\n",
        "    step_size = 0.05\n",
        "    max_steps = 1000\n",
        "\n",
        "    # Perform RK4 integration forward and backward\n",
        "    interpolate_ahead = rk4_integration(seed_location, step_size, max_steps)\n",
        "    interpolate_back = rk4_integration(seed_location, -step_size, max_steps)\n",
        "\n",
        "    # Combine forward and backward points\n",
        "    allpoints = vtk.vtkPoints()\n",
        "\n",
        "    for i in range(interpolate_back.GetNumberOfPoints() - 1, -1, -1):\n",
        "        allpoints.InsertNextPoint(interpolate_back.GetPoint(i))\n",
        "\n",
        "    allpoints.InsertNextPoint(seed_location)\n",
        "\n",
        "    for i in range(interpolate_ahead.GetNumberOfPoints()):\n",
        "        allpoints.InsertNextPoint(interpolate_ahead.GetPoint(i))\n",
        "\n",
        "    # Write combined points to VTP file\n",
        "    write_vtp(\"streamline.vtp\", allpoints)\n",
        "    print(\"generated\")\n",
        "    # print(allpoints)\n",
        "\n",
        "\n",
        "if __name__ == \"__main__\":\n",
        "    main()"
      ]
    },
    {
      "cell_type": "code",
      "source": [
        "\n"
      ],
      "metadata": {
        "id": "UVte4mTaiOyN"
      },
      "execution_count": null,
      "outputs": []
    }
  ],
  "metadata": {
    "kaggle": {
      "accelerator": "none",
      "dataSources": [
        {
          "datasetId": 4789319,
          "sourceId": 8108201,
          "sourceType": "datasetVersion"
        }
      ],
      "dockerImageVersionId": 30684,
      "isGpuEnabled": false,
      "isInternetEnabled": true,
      "language": "python",
      "sourceType": "notebook"
    },
    "kernelspec": {
      "display_name": "Python 3",
      "language": "python",
      "name": "python3"
    },
    "language_info": {
      "codemirror_mode": {
        "name": "ipython",
        "version": 3
      },
      "file_extension": ".py",
      "mimetype": "text/x-python",
      "name": "python",
      "nbconvert_exporter": "python",
      "pygments_lexer": "ipython3",
      "version": "3.11.5"
    },
    "colab": {
      "provenance": []
    }
  },
  "nbformat": 4,
  "nbformat_minor": 0
}